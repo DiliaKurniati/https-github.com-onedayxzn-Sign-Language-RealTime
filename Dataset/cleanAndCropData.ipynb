{
 "cells": [
  {
   "cell_type": "code",
   "execution_count": 1,
   "metadata": {},
   "outputs": [],
   "source": [
    "#open cv``\n",
    "import cv2\n",
    "import os\n"
   ]
  },
  {
   "cell_type": "code",
   "execution_count": 2,
   "metadata": {},
   "outputs": [
    {
     "name": "stdout",
     "output_type": "stream",
     "text": [
      "['01', '02', '03', '04', '05', '06', '07', '08', '09', '11', '12', '13', '14', '15', '16', '17', '18', '19', '20', '30', '40', '50', '60', '70', '80', '90', '100']\n",
      "['1000', 'Biliun', 'Juta', 'Milyar', 'Puluh', 'Ratus', 'Triliun', 'Jutaan', 'Ratusan', 'Puluhan', 'Ribuan', 'Satuan']\n",
      "Final Results ['01', '02', '03', '04', '05', '06', '07', '08', '09', '11', '12', '13', '14', '15', '16', '17', '18', '19', '20', '30', '40', '50', '60', '70', '80', '90', '100', '1000', 'Biliun', 'Juta', 'Milyar', 'Puluh', 'Ratus', 'Triliun', 'Jutaan', 'Ratusan', 'Puluhan', 'Ribuan', 'Satuan']\n",
      "39\n"
     ]
    }
   ],
   "source": [
    "Angka = []\n",
    "nol = '0'\n",
    "\n",
    "\n",
    "\n",
    "#1 sampai 20\n",
    "for i in range(1,101):\n",
    "    if i < 10:\n",
    "        angka = nol + str(i)\n",
    "        Angka.append(angka)\n",
    "    elif i > 10 and i < 20:\n",
    "        angka = str(i)\n",
    "        Angka.append(angka)\n",
    "    elif i >= 20 and i <= 100:\n",
    "        if i % 10 == 0:\n",
    "            angka = str(i)\n",
    "            Angka.append(angka)\n",
    "\n",
    "print(Angka)\n",
    "Angka2 = ['1000','Biliun','Juta','Milyar','Puluh','Ratus','Triliun','Jutaan','Ratusan','Puluhan','Ribuan','Satuan']\n",
    "print(Angka2)\n",
    "Angka=Angka+Angka2\n",
    "print('Final Results',Angka)\n",
    "print(len(Angka))"
   ]
  },
  {
   "cell_type": "code",
   "execution_count": 5,
   "metadata": {},
   "outputs": [
    {
     "name": "stdout",
     "output_type": "stream",
     "text": [
      "['010.jpg', '011.jpg', '0110.jpg', '0111.jpg', '0112.jpg', '0113.jpg', '0114.jpg', '0115.jpg', '0116.jpg', '0117.jpg', '0118.jpg', '0119.jpg', '012.jpg', '0120.jpg', '0121.jpg', '0122.jpg', '0123.jpg', '0124.jpg', '0125.jpg', '0126.jpg', '0127.jpg', '0128.jpg', '0129.jpg', '013.jpg', '0130.jpg', '0131.jpg', '0132.jpg', '0133.jpg', '0134.jpg', '0135.jpg', '0136.jpg', '0137.jpg', '0138.jpg', '0139.jpg', '014.jpg', '0140.jpg', '0141.jpg', '0142.jpg', '0143.jpg', '0144.jpg', '0145.jpg', '0146.jpg', '0147.jpg', '0148.jpg', '0149.jpg', '015.jpg', '0150.jpg', '0151.jpg', '0152.jpg', '0153.jpg', '0154.jpg', '0155.jpg', '0156.jpg', '0157.jpg', '0158.jpg', '0159.jpg', '016.jpg', '0160.jpg', '0161.jpg', '0162.jpg', '017.jpg', '018.jpg', '019.jpg']\n",
      "['020.jpg', '021.jpg', '0210.jpg', '0211.jpg', '0212.jpg', '0213.jpg', '0214.jpg', '0215.jpg', '0216.jpg', '0217.jpg', '0218.jpg', '0219.jpg', '022.jpg', '0220.jpg', '0221.jpg', '0222.jpg', '0223.jpg', '0224.jpg', '0225.jpg', '0226.jpg', '0227.jpg', '0228.jpg', '0229.jpg', '023.jpg', '0230.jpg', '0231.jpg', '0232.jpg', '0233.jpg', '0234.jpg', '0235.jpg', '0236.jpg', '0237.jpg', '0238.jpg', '0239.jpg', '024.jpg', '0240.jpg', '0241.jpg', '0242.jpg', '0243.jpg', '0244.jpg', '0245.jpg', '0246.jpg', '0247.jpg', '0248.jpg', '0249.jpg', '025.jpg', '0250.jpg', '0251.jpg', '0252.jpg', '0253.jpg', '0254.jpg', '0255.jpg', '0256.jpg', '0257.jpg', '0258.jpg', '0259.jpg', '026.jpg', '0260.jpg', '0261.jpg', '0262.jpg', '0263.jpg', '0264.jpg', '0265.jpg', '027.jpg', '028.jpg', '029.jpg']\n",
      "['030.jpg', '031.jpg', '0310.jpg', '0311.jpg', '0312.jpg', '0313.jpg', '0314.jpg', '0315.jpg', '0316.jpg', '0317.jpg', '0318.jpg', '0319.jpg', '032.jpg', '0320.jpg', '0321.jpg', '0322.jpg', '0323.jpg', '0324.jpg', '0325.jpg', '0326.jpg', '0327.jpg', '0328.jpg', '0329.jpg', '033.jpg', '0330.jpg', '0331.jpg', '0332.jpg', '0333.jpg', '0334.jpg', '0335.jpg', '0336.jpg', '0337.jpg', '0338.jpg', '0339.jpg', '034.jpg', '0340.jpg', '0341.jpg', '0342.jpg', '0343.jpg', '0344.jpg', '0345.jpg', '0346.jpg', '0347.jpg', '0348.jpg', '0349.jpg', '035.jpg', '0350.jpg', '0351.jpg', '0352.jpg', '0353.jpg', '0354.jpg', '0355.jpg', '0356.jpg', '0357.jpg', '0358.jpg', '036.jpg', '037.jpg', '038.jpg', '039.jpg']\n",
      "['040.jpg', '041.jpg', '0410.jpg', '0411.jpg', '0412.jpg', '0413.jpg', '0414.jpg', '0415.jpg', '0416.jpg', '0417.jpg', '0418.jpg', '0419.jpg', '042.jpg', '0420.jpg', '0421.jpg', '0422.jpg', '0423.jpg', '0424.jpg', '0425.jpg', '0426.jpg', '0427.jpg', '0428.jpg', '0429.jpg', '043.jpg', '0430.jpg', '0431.jpg', '0432.jpg', '0433.jpg', '0434.jpg', '0435.jpg', '0436.jpg', '0437.jpg', '0438.jpg', '0439.jpg', '044.jpg', '0440.jpg', '0441.jpg', '0442.jpg', '0443.jpg', '0444.jpg', '0445.jpg', '0446.jpg', '0447.jpg', '045.jpg', '046.jpg', '047.jpg', '048.jpg', '049.jpg']\n",
      "['050.jpg', '051.jpg', '0510.jpg', '0511.jpg', '0512.jpg', '0513.jpg', '0514.jpg', '0515.jpg', '0516.jpg', '0517.jpg', '0518.jpg', '0519.jpg', '052.jpg', '0520.jpg', '0521.jpg', '0522.jpg', '0523.jpg', '0524.jpg', '0525.jpg', '0526.jpg', '0527.jpg', '0528.jpg', '0529.jpg', '053.jpg', '0530.jpg', '0531.jpg', '0532.jpg', '0533.jpg', '0534.jpg', '0535.jpg', '0536.jpg', '0537.jpg', '0538.jpg', '0539.jpg', '054.jpg', '0540.jpg', '0541.jpg', '0542.jpg', '0543.jpg', '0544.jpg', '0545.jpg', '0546.jpg', '0547.jpg', '0548.jpg', '0549.jpg', '055.jpg', '0550.jpg', '0551.jpg', '0552.jpg', '0553.jpg', '0554.jpg', '0555.jpg', '0556.jpg', '0557.jpg', '0558.jpg', '0559.jpg', '056.jpg', '0560.jpg', '0561.jpg', '057.jpg', '058.jpg', '059.jpg']\n",
      "['060.jpg', '061.jpg', '0610.jpg', '0611.jpg', '0612.jpg', '0613.jpg', '0614.jpg', '0615.jpg', '0616.jpg', '0617.jpg', '0618.jpg', '0619.jpg', '062.jpg', '0620.jpg', '0621.jpg', '0622.jpg', '0623.jpg', '0624.jpg', '0625.jpg', '0626.jpg', '0627.jpg', '0628.jpg', '0629.jpg', '063.jpg', '0630.jpg', '0631.jpg', '0632.jpg', '0633.jpg', '0634.jpg', '0635.jpg', '0636.jpg', '0637.jpg', '0638.jpg', '0639.jpg', '064.jpg', '0640.jpg', '0641.jpg', '0642.jpg', '0643.jpg', '0644.jpg', '0645.jpg', '0646.jpg', '0647.jpg', '0648.jpg', '0649.jpg', '065.jpg', '0650.jpg', '0651.jpg', '0652.jpg', '0653.jpg', '0654.jpg', '0655.jpg', '0656.jpg', '0657.jpg', '0658.jpg', '0659.jpg', '066.jpg', '0660.jpg', '0661.jpg', '0662.jpg', '0663.jpg', '0664.jpg', '0665.jpg', '0666.jpg', '0667.jpg', '0668.jpg', '0669.jpg', '067.jpg', '0670.jpg', '0671.jpg', '0672.jpg', '0673.jpg', '0674.jpg', '0675.jpg', '068.jpg', '069.jpg']\n",
      "['070.jpg', '071.jpg', '0710.jpg', '0711.jpg', '0712.jpg', '0713.jpg', '0714.jpg', '0715.jpg', '0716.jpg', '0717.jpg', '0718.jpg', '0719.jpg', '072.jpg', '0720.jpg', '0721.jpg', '0722.jpg', '0723.jpg', '0724.jpg', '0725.jpg', '0726.jpg', '0727.jpg', '0728.jpg', '0729.jpg', '073.jpg', '0730.jpg', '0731.jpg', '0732.jpg', '0733.jpg', '0734.jpg', '0735.jpg', '0736.jpg', '0737.jpg', '0738.jpg', '0739.jpg', '074.jpg', '0740.jpg', '0741.jpg', '0742.jpg', '0743.jpg', '0744.jpg', '0745.jpg', '0746.jpg', '0747.jpg', '0748.jpg', '0749.jpg', '075.jpg', '0750.jpg', '0751.jpg', '0752.jpg', '0753.jpg', '0754.jpg', '0755.jpg', '076.jpg', '077.jpg', '078.jpg', '079.jpg']\n",
      "['080.jpg', '081.jpg', '0810.jpg', '0811.jpg', '0812.jpg', '0813.jpg', '0814.jpg', '0815.jpg', '0816.jpg', '0817.jpg', '0818.jpg', '0819.jpg', '082.jpg', '0820.jpg', '0821.jpg', '0822.jpg', '0823.jpg', '0824.jpg', '0825.jpg', '0826.jpg', '0827.jpg', '0828.jpg', '0829.jpg', '083.jpg', '0830.jpg', '0831.jpg', '0832.jpg', '0833.jpg', '0834.jpg', '0835.jpg', '0836.jpg', '0837.jpg', '0838.jpg', '0839.jpg', '084.jpg', '0840.jpg', '0841.jpg', '0842.jpg', '0843.jpg', '0844.jpg', '0845.jpg', '0846.jpg', '0847.jpg', '0848.jpg', '0849.jpg', '085.jpg', '0850.jpg', '0851.jpg', '0852.jpg', '0853.jpg', '0854.jpg', '0855.jpg', '0856.jpg', '0857.jpg', '0858.jpg', '0859.jpg', '086.jpg', '0860.jpg', '0861.jpg', '087.jpg', '088.jpg', '089.jpg']\n",
      "['090.jpg', '091.jpg', '0910.jpg', '0911.jpg', '0912.jpg', '0913.jpg', '0914.jpg', '0915.jpg', '0916.jpg', '0917.jpg', '0918.jpg', '0919.jpg', '092.jpg', '0920.jpg', '0921.jpg', '0922.jpg', '0923.jpg', '0924.jpg', '0925.jpg', '0926.jpg', '0927.jpg', '0928.jpg', '0929.jpg', '093.jpg', '0930.jpg', '0931.jpg', '0932.jpg', '0933.jpg', '0934.jpg', '0935.jpg', '0936.jpg', '0937.jpg', '0938.jpg', '0939.jpg', '094.jpg', '0940.jpg', '0941.jpg', '0942.jpg', '0943.jpg', '0944.jpg', '0945.jpg', '0946.jpg', '0947.jpg', '0948.jpg', '0949.jpg', '095.jpg', '0950.jpg', '0951.jpg', '0952.jpg', '0953.jpg', '0954.jpg', '0955.jpg', '0956.jpg', '0957.jpg', '0958.jpg', '0959.jpg', '096.jpg', '0960.jpg', '0961.jpg', '0962.jpg', '0963.jpg', '0964.jpg', '0965.jpg', '097.jpg', '098.jpg', '099.jpg']\n",
      "['110.jpg', '111.jpg', '1110.jpg', '1111.jpg', '1112.jpg', '1113.jpg', '1114.jpg', '1115.jpg', '1116.jpg', '1117.jpg', '1118.jpg', '1119.jpg', '112.jpg', '1120.jpg', '1121.jpg', '1122.jpg', '1123.jpg', '1124.jpg', '1125.jpg', '1126.jpg', '1127.jpg', '1128.jpg', '1129.jpg', '113.jpg', '1130.jpg', '1131.jpg', '1132.jpg', '1133.jpg', '1134.jpg', '1135.jpg', '1136.jpg', '1137.jpg', '1138.jpg', '1139.jpg', '114.jpg', '1140.jpg', '1141.jpg', '1142.jpg', '1143.jpg', '1144.jpg', '1145.jpg', '1146.jpg', '1147.jpg', '1148.jpg', '1149.jpg', '115.jpg', '1150.jpg', '1151.jpg', '1152.jpg', '1153.jpg', '1154.jpg', '1155.jpg', '1156.jpg', '1157.jpg', '116.jpg', '117.jpg', '118.jpg', '119.jpg']\n",
      "['120.jpg', '121.jpg', '1210.jpg', '1211.jpg', '1212.jpg', '1213.jpg', '1214.jpg', '1215.jpg', '1216.jpg', '1217.jpg', '1218.jpg', '1219.jpg', '122.jpg', '1220.jpg', '1221.jpg', '1222.jpg', '1223.jpg', '1224.jpg', '1225.jpg', '1226.jpg', '1227.jpg', '1228.jpg', '1229.jpg', '123.jpg', '1230.jpg', '1231.jpg', '1232.jpg', '1233.jpg', '1234.jpg', '1235.jpg', '1236.jpg', '1237.jpg', '1238.jpg', '1239.jpg', '124.jpg', '1240.jpg', '1241.jpg', '1242.jpg', '1243.jpg', '1244.jpg', '1245.jpg', '1246.jpg', '1247.jpg', '1248.jpg', '1249.jpg', '125.jpg', '1250.jpg', '1251.jpg', '1252.jpg', '1253.jpg', '1254.jpg', '1255.jpg', '1256.jpg', '1257.jpg', '1258.jpg', '1259.jpg', '126.jpg', '1260.jpg', '1261.jpg', '1262.jpg', '1263.jpg', '127.jpg', '128.jpg', '129.jpg']\n",
      "['130.jpg', '131.jpg', '1310.jpg', '1311.jpg', '1312.jpg', '1313.jpg', '1314.jpg', '1315.jpg', '1316.jpg', '1317.jpg', '1318.jpg', '1319.jpg', '132.jpg', '1320.jpg', '1321.jpg', '1322.jpg', '1323.jpg', '1324.jpg', '1325.jpg', '1326.jpg', '1327.jpg', '1328.jpg', '1329.jpg', '133.jpg', '1330.jpg', '1331.jpg', '1332.jpg', '1333.jpg', '1334.jpg', '1335.jpg', '1336.jpg', '1337.jpg', '1338.jpg', '1339.jpg', '134.jpg', '1340.jpg', '1341.jpg', '1342.jpg', '1343.jpg', '1344.jpg', '1345.jpg', '1346.jpg', '1347.jpg', '1348.jpg', '1349.jpg', '135.jpg', '1350.jpg', '1351.jpg', '1352.jpg', '1353.jpg', '1354.jpg', '1355.jpg', '1356.jpg', '1357.jpg', '1358.jpg', '136.jpg', '137.jpg', '138.jpg', '139.jpg']\n",
      "['140.jpg', '141.jpg', '1410.jpg', '1411.jpg', '1412.jpg', '1413.jpg', '1414.jpg', '1415.jpg', '1416.jpg', '1417.jpg', '1418.jpg', '1419.jpg', '142.jpg', '1420.jpg', '1421.jpg', '1422.jpg', '1423.jpg', '1424.jpg', '1425.jpg', '1426.jpg', '1427.jpg', '1428.jpg', '1429.jpg', '143.jpg', '1430.jpg', '1431.jpg', '1432.jpg', '1433.jpg', '1434.jpg', '1435.jpg', '1436.jpg', '1437.jpg', '1438.jpg', '1439.jpg', '144.jpg', '1440.jpg', '1441.jpg', '1442.jpg', '1443.jpg', '1444.jpg', '1445.jpg', '1446.jpg', '1447.jpg', '1448.jpg', '1449.jpg', '145.jpg', '1450.jpg', '1451.jpg', '1452.jpg', '1453.jpg', '1454.jpg', '146.jpg', '147.jpg', '148.jpg', '149.jpg']\n",
      "['150.jpg', '151.jpg', '1510.jpg', '1511.jpg', '1512.jpg', '1513.jpg', '1514.jpg', '1515.jpg', '1516.jpg', '1517.jpg', '1518.jpg', '1519.jpg', '152.jpg', '1520.jpg', '1521.jpg', '1522.jpg', '1523.jpg', '1524.jpg', '1525.jpg', '1526.jpg', '1527.jpg', '1528.jpg', '1529.jpg', '153.jpg', '1530.jpg', '1531.jpg', '1532.jpg', '1533.jpg', '1534.jpg', '1535.jpg', '1536.jpg', '1537.jpg', '1538.jpg', '1539.jpg', '154.jpg', '1540.jpg', '1541.jpg', '1542.jpg', '1543.jpg', '1544.jpg', '1545.jpg', '1546.jpg', '1547.jpg', '1548.jpg', '1549.jpg', '155.jpg', '1550.jpg', '1551.jpg', '1552.jpg', '1553.jpg', '1554.jpg', '1555.jpg', '1556.jpg', '1557.jpg', '156.jpg', '157.jpg', '158.jpg', '159.jpg']\n",
      "['160.jpg', '161.jpg', '1610.jpg', '1611.jpg', '1612.jpg', '1613.jpg', '1614.jpg', '1615.jpg', '1616.jpg', '1617.jpg', '1618.jpg', '1619.jpg', '162.jpg', '1620.jpg', '1621.jpg', '1622.jpg', '1623.jpg', '1624.jpg', '1625.jpg', '1626.jpg', '1627.jpg', '1628.jpg', '1629.jpg', '163.jpg', '1630.jpg', '1631.jpg', '1632.jpg', '1633.jpg', '1634.jpg', '1635.jpg', '1636.jpg', '1637.jpg', '1638.jpg', '1639.jpg', '164.jpg', '1640.jpg', '1641.jpg', '1642.jpg', '1643.jpg', '1644.jpg', '1645.jpg', '1646.jpg', '1647.jpg', '1648.jpg', '1649.jpg', '165.jpg', '1650.jpg', '1651.jpg', '1652.jpg', '1653.jpg', '1654.jpg', '1655.jpg', '1656.jpg', '1657.jpg', '1658.jpg', '1659.jpg', '166.jpg', '1660.jpg', '1661.jpg', '1662.jpg', '1663.jpg', '1664.jpg', '1665.jpg', '1666.jpg', '167.jpg', '168.jpg', '169.jpg']\n",
      "['170.jpg', '171.jpg', '1710.jpg', '1711.jpg', '1712.jpg', '1713.jpg', '1714.jpg', '1715.jpg', '1716.jpg', '1717.jpg', '1718.jpg', '1719.jpg', '172.jpg', '1720.jpg', '1721.jpg', '1722.jpg', '1723.jpg', '1724.jpg', '1725.jpg', '1726.jpg', '1727.jpg', '1728.jpg', '1729.jpg', '173.jpg', '1730.jpg', '1731.jpg', '1732.jpg', '1733.jpg', '1734.jpg', '1735.jpg', '1736.jpg', '1737.jpg', '1738.jpg', '1739.jpg', '174.jpg', '1740.jpg', '1741.jpg', '1742.jpg', '1743.jpg', '1744.jpg', '1745.jpg', '1746.jpg', '1747.jpg', '1748.jpg', '1749.jpg', '175.jpg', '1750.jpg', '1751.jpg', '1752.jpg', '1753.jpg', '1754.jpg', '1755.jpg', '1756.jpg', '1757.jpg', '1758.jpg', '1759.jpg', '176.jpg', '1760.jpg', '1761.jpg', '1762.jpg', '1763.jpg', '1764.jpg', '1765.jpg', '1766.jpg', '1767.jpg', '1768.jpg', '1769.jpg', '177.jpg', '1770.jpg', '1771.jpg', '1772.jpg', '1773.jpg', '178.jpg', '179.jpg']\n",
      "['180.jpg', '181.jpg', '1810.jpg', '1811.jpg', '1812.jpg', '1813.jpg', '1814.jpg', '1815.jpg', '1816.jpg', '1817.jpg', '1818.jpg', '1819.jpg', '182.jpg', '1820.jpg', '1821.jpg', '1822.jpg', '1823.jpg', '1824.jpg', '1825.jpg', '1826.jpg', '1827.jpg', '1828.jpg', '1829.jpg', '183.jpg', '1830.jpg', '1831.jpg', '1832.jpg', '1833.jpg', '1834.jpg', '1835.jpg', '1836.jpg', '1837.jpg', '1838.jpg', '1839.jpg', '184.jpg', '1840.jpg', '1841.jpg', '1842.jpg', '1843.jpg', '1844.jpg', '1845.jpg', '1846.jpg', '1847.jpg', '1848.jpg', '1849.jpg', '185.jpg', '1850.jpg', '1851.jpg', '1852.jpg', '1853.jpg', '1854.jpg', '1855.jpg', '1856.jpg', '1857.jpg', '1858.jpg', '1859.jpg', '186.jpg', '1860.jpg', '1861.jpg', '1862.jpg', '1863.jpg', '1864.jpg', '1865.jpg', '187.jpg', '188.jpg', '189.jpg']\n",
      "['190.jpg', '191.jpg', '1910.jpg', '1911.jpg', '1912.jpg', '1913.jpg', '1914.jpg', '1915.jpg', '1916.jpg', '1917.jpg', '1918.jpg', '1919.jpg', '192.jpg', '1920.jpg', '1921.jpg', '1922.jpg', '1923.jpg', '1924.jpg', '1925.jpg', '1926.jpg', '1927.jpg', '1928.jpg', '1929.jpg', '193.jpg', '1930.jpg', '1931.jpg', '1932.jpg', '1933.jpg', '1934.jpg', '1935.jpg', '1936.jpg', '1937.jpg', '1938.jpg', '1939.jpg', '194.jpg', '1940.jpg', '1941.jpg', '1942.jpg', '1943.jpg', '1944.jpg', '1945.jpg', '1946.jpg', '1947.jpg', '1948.jpg', '1949.jpg', '195.jpg', '1950.jpg', '1951.jpg', '1952.jpg', '1953.jpg', '1954.jpg', '1955.jpg', '1956.jpg', '1957.jpg', '1958.jpg', '1959.jpg', '196.jpg', '1960.jpg', '1961.jpg', '1962.jpg', '1963.jpg', '1964.jpg', '1965.jpg', '1966.jpg', '1967.jpg', '1968.jpg', '1969.jpg', '197.jpg', '1970.jpg', '198.jpg', '199.jpg']\n",
      "['200.jpg', '201.jpg', '2010.jpg', '2011.jpg', '2012.jpg', '2013.jpg', '2014.jpg', '2015.jpg', '2016.jpg', '2017.jpg', '2018.jpg', '2019.jpg', '202.jpg', '2020.jpg', '2021.jpg', '2022.jpg', '2023.jpg', '2024.jpg', '2025.jpg', '2026.jpg', '2027.jpg', '2028.jpg', '2029.jpg', '203.jpg', '2030.jpg', '2031.jpg', '2032.jpg', '2033.jpg', '2034.jpg', '2035.jpg', '2036.jpg', '2037.jpg', '2038.jpg', '2039.jpg', '204.jpg', '2040.jpg', '2041.jpg', '2042.jpg', '2043.jpg', '2044.jpg', '2045.jpg', '2046.jpg', '2047.jpg', '2048.jpg', '2049.jpg', '205.jpg', '2050.jpg', '2051.jpg', '2052.jpg', '2053.jpg', '2054.jpg', '2055.jpg', '2056.jpg', '2057.jpg', '2058.jpg', '2059.jpg', '206.jpg', '2060.jpg', '2061.jpg', '2062.jpg', '207.jpg', '208.jpg', '209.jpg']\n",
      "['300.jpg', '301.jpg', '3010.jpg', '3011.jpg', '3012.jpg', '3013.jpg', '3014.jpg', '3015.jpg', '3016.jpg', '3017.jpg', '3018.jpg', '3019.jpg', '302.jpg', '3020.jpg', '3021.jpg', '3022.jpg', '3023.jpg', '3024.jpg', '3025.jpg', '3026.jpg', '3027.jpg', '3028.jpg', '3029.jpg', '303.jpg', '3030.jpg', '3031.jpg', '3032.jpg', '3033.jpg', '3034.jpg', '3035.jpg', '3036.jpg', '3037.jpg', '3038.jpg', '3039.jpg', '304.jpg', '3040.jpg', '3041.jpg', '3042.jpg', '3043.jpg', '3044.jpg', '3045.jpg', '3046.jpg', '3047.jpg', '3048.jpg', '3049.jpg', '305.jpg', '3050.jpg', '3051.jpg', '3052.jpg', '3053.jpg', '306.jpg', '307.jpg', '308.jpg', '309.jpg']\n",
      "['400.jpg', '401.jpg', '4010.jpg', '4011.jpg', '4012.jpg', '4013.jpg', '4014.jpg', '4015.jpg', '4016.jpg', '4017.jpg', '4018.jpg', '4019.jpg', '402.jpg', '4020.jpg', '4021.jpg', '4022.jpg', '4023.jpg', '4024.jpg', '4025.jpg', '4026.jpg', '4027.jpg', '4028.jpg', '4029.jpg', '403.jpg', '4030.jpg', '4031.jpg', '4032.jpg', '4033.jpg', '4034.jpg', '4035.jpg', '4036.jpg', '4037.jpg', '4038.jpg', '4039.jpg', '404.jpg', '4040.jpg', '4041.jpg', '4042.jpg', '4043.jpg', '4044.jpg', '4045.jpg', '4046.jpg', '4047.jpg', '4048.jpg', '4049.jpg', '405.jpg', '4050.jpg', '4051.jpg', '4052.jpg', '4053.jpg', '4054.jpg', '4055.jpg', '4056.jpg', '4057.jpg', '4058.jpg', '4059.jpg', '406.jpg', '4060.jpg', '4061.jpg', '4062.jpg', '4063.jpg', '4064.jpg', '4065.jpg', '4066.jpg', '4067.jpg', '4068.jpg', '407.jpg', '408.jpg', '409.jpg']\n",
      "['500.jpg', '501.jpg', '5010.jpg', '5011.jpg', '5012.jpg', '5013.jpg', '5014.jpg', '5015.jpg', '5016.jpg', '5017.jpg', '5018.jpg', '5019.jpg', '502.jpg', '5020.jpg', '5021.jpg', '5022.jpg', '5023.jpg', '5024.jpg', '5025.jpg', '5026.jpg', '5027.jpg', '5028.jpg', '5029.jpg', '503.jpg', '5030.jpg', '5031.jpg', '5032.jpg', '5033.jpg', '5034.jpg', '5035.jpg', '5036.jpg', '5037.jpg', '5038.jpg', '5039.jpg', '504.jpg', '5040.jpg', '5041.jpg', '5042.jpg', '5043.jpg', '5044.jpg', '5045.jpg', '5046.jpg', '5047.jpg', '5048.jpg', '5049.jpg', '505.jpg', '5050.jpg', '5051.jpg', '5052.jpg', '5053.jpg', '5054.jpg', '5055.jpg', '5056.jpg', '5057.jpg', '5058.jpg', '5059.jpg', '506.jpg', '507.jpg', '508.jpg', '509.jpg']\n",
      "['600.jpg', '601.jpg', '6010.jpg', '6011.jpg', '6012.jpg', '6013.jpg', '6014.jpg', '6015.jpg', '6016.jpg', '6017.jpg', '6018.jpg', '6019.jpg', '602.jpg', '6020.jpg', '6021.jpg', '6022.jpg', '6023.jpg', '6024.jpg', '6025.jpg', '6026.jpg', '6027.jpg', '6028.jpg', '6029.jpg', '603.jpg', '6030.jpg', '6031.jpg', '6032.jpg', '6033.jpg', '6034.jpg', '6035.jpg', '6036.jpg', '6037.jpg', '6038.jpg', '6039.jpg', '604.jpg', '6040.jpg', '6041.jpg', '6042.jpg', '6043.jpg', '6044.jpg', '6045.jpg', '6046.jpg', '6047.jpg', '6048.jpg', '6049.jpg', '605.jpg', '6050.jpg', '6051.jpg', '6052.jpg', '6053.jpg', '6054.jpg', '6055.jpg', '6056.jpg', '6057.jpg', '6058.jpg', '6059.jpg', '606.jpg', '6060.jpg', '6061.jpg', '607.jpg', '608.jpg', '609.jpg']\n",
      "['700.jpg', '701.jpg', '7010.jpg', '7011.jpg', '7012.jpg', '7013.jpg', '7014.jpg', '7015.jpg', '7016.jpg', '7017.jpg', '7018.jpg', '7019.jpg', '702.jpg', '7020.jpg', '7021.jpg', '7022.jpg', '7023.jpg', '7024.jpg', '7025.jpg', '7026.jpg', '7027.jpg', '7028.jpg', '7029.jpg', '703.jpg', '7030.jpg', '7031.jpg', '7032.jpg', '7033.jpg', '7034.jpg', '7035.jpg', '7036.jpg', '7037.jpg', '7038.jpg', '7039.jpg', '704.jpg', '7040.jpg', '7041.jpg', '7042.jpg', '7043.jpg', '7044.jpg', '7045.jpg', '7046.jpg', '7047.jpg', '7048.jpg', '7049.jpg', '705.jpg', '7050.jpg', '7051.jpg', '706.jpg', '707.jpg', '708.jpg', '709.jpg']\n",
      "['800.jpg', '801.jpg', '8010.jpg', '8011.jpg', '8012.jpg', '8013.jpg', '8014.jpg', '8015.jpg', '8016.jpg', '8017.jpg', '8018.jpg', '8019.jpg', '802.jpg', '8020.jpg', '8021.jpg', '8022.jpg', '8023.jpg', '8024.jpg', '8025.jpg', '8026.jpg', '8027.jpg', '8028.jpg', '8029.jpg', '803.jpg', '8030.jpg', '8031.jpg', '8032.jpg', '8033.jpg', '8034.jpg', '8035.jpg', '8036.jpg', '8037.jpg', '8038.jpg', '8039.jpg', '804.jpg', '8040.jpg', '8041.jpg', '8042.jpg', '8043.jpg', '8044.jpg', '8045.jpg', '8046.jpg', '8047.jpg', '8048.jpg', '8049.jpg', '805.jpg', '8050.jpg', '8051.jpg', '8052.jpg', '8053.jpg', '8054.jpg', '8055.jpg', '8056.jpg', '8057.jpg', '8058.jpg', '8059.jpg', '806.jpg', '8060.jpg', '8061.jpg', '8062.jpg', '8063.jpg', '807.jpg', '808.jpg', '809.jpg']\n",
      "['900.jpg', '901.jpg', '9010.jpg', '9011.jpg', '9012.jpg', '9013.jpg', '9014.jpg', '9015.jpg', '9016.jpg', '9017.jpg', '9018.jpg', '9019.jpg', '902.jpg', '9020.jpg', '9021.jpg', '9022.jpg', '9023.jpg', '9024.jpg', '9025.jpg', '9026.jpg', '9027.jpg', '9028.jpg', '9029.jpg', '903.jpg', '9030.jpg', '9031.jpg', '9032.jpg', '9033.jpg', '9034.jpg', '9035.jpg', '9036.jpg', '9037.jpg', '9038.jpg', '9039.jpg', '904.jpg', '9040.jpg', '9041.jpg', '9042.jpg', '9043.jpg', '9044.jpg', '9045.jpg', '9046.jpg', '9047.jpg', '9048.jpg', '9049.jpg', '905.jpg', '9050.jpg', '9051.jpg', '9052.jpg', '9053.jpg', '9054.jpg', '9055.jpg', '9056.jpg', '9057.jpg', '9058.jpg', '9059.jpg', '906.jpg', '907.jpg', '908.jpg', '909.jpg']\n",
      "['1000.jpg', '1001.jpg', '10010.jpg', '10011.jpg', '10012.jpg', '10013.jpg', '10014.jpg', '10015.jpg', '10016.jpg', '10017.jpg', '10018.jpg', '10019.jpg', '1002.jpg', '10020.jpg', '10021.jpg', '10022.jpg', '10023.jpg', '10024.jpg', '10025.jpg', '10026.jpg', '10027.jpg', '10028.jpg', '10029.jpg', '1003.jpg', '10030.jpg', '10031.jpg', '10032.jpg', '10033.jpg', '10034.jpg', '10035.jpg', '10036.jpg', '10037.jpg', '10038.jpg', '10039.jpg', '1004.jpg', '10040.jpg', '10041.jpg', '10042.jpg', '10043.jpg', '10044.jpg', '10045.jpg', '10046.jpg', '10047.jpg', '10048.jpg', '10049.jpg', '1005.jpg', '10050.jpg', '10051.jpg', '10052.jpg', '10053.jpg', '10054.jpg', '10055.jpg', '1006.jpg', '1007.jpg', '1008.jpg', '1009.jpg']\n",
      "['10000.jpg', '10001.jpg', '100010.jpg', '100011.jpg', '100012.jpg', '100013.jpg', '100014.jpg', '100015.jpg', '100016.jpg', '100017.jpg', '100018.jpg', '100019.jpg', '10002.jpg', '100020.jpg', '100021.jpg', '100022.jpg', '100023.jpg', '100024.jpg', '100025.jpg', '100026.jpg', '100027.jpg', '100028.jpg', '100029.jpg', '10003.jpg', '100030.jpg', '100031.jpg', '100032.jpg', '100033.jpg', '100034.jpg', '100035.jpg', '100036.jpg', '100037.jpg', '100038.jpg', '100039.jpg', '10004.jpg', '100040.jpg', '100041.jpg', '100042.jpg', '100043.jpg', '100044.jpg', '100045.jpg', '100046.jpg', '100047.jpg', '100048.jpg', '100049.jpg', '10005.jpg', '100050.jpg', '100051.jpg', '100052.jpg', '100053.jpg', '100054.jpg', '100055.jpg', '100056.jpg', '100057.jpg', '100058.jpg', '100059.jpg', '10006.jpg', '100060.jpg', '100061.jpg', '100062.jpg', '100063.jpg', '100064.jpg', '100065.jpg', '100066.jpg', '10007.jpg', '10008.jpg', '10009.jpg']\n",
      "['Biliun0.jpg', 'Biliun1.jpg', 'Biliun10.jpg', 'Biliun11.jpg', 'Biliun12.jpg', 'Biliun13.jpg', 'Biliun14.jpg', 'Biliun15.jpg', 'Biliun16.jpg', 'Biliun17.jpg', 'Biliun18.jpg', 'Biliun19.jpg', 'Biliun2.jpg', 'Biliun20.jpg', 'Biliun21.jpg', 'Biliun22.jpg', 'Biliun23.jpg', 'Biliun24.jpg', 'Biliun25.jpg', 'Biliun26.jpg', 'Biliun27.jpg', 'Biliun28.jpg', 'Biliun29.jpg', 'Biliun3.jpg', 'Biliun30.jpg', 'Biliun31.jpg', 'Biliun32.jpg', 'Biliun33.jpg', 'Biliun34.jpg', 'Biliun35.jpg', 'Biliun36.jpg', 'Biliun37.jpg', 'Biliun38.jpg', 'Biliun39.jpg', 'Biliun4.jpg', 'Biliun40.jpg', 'Biliun41.jpg', 'Biliun42.jpg', 'Biliun43.jpg', 'Biliun44.jpg', 'Biliun45.jpg', 'Biliun46.jpg', 'Biliun47.jpg', 'Biliun48.jpg', 'Biliun49.jpg', 'Biliun5.jpg', 'Biliun50.jpg', 'Biliun51.jpg', 'Biliun6.jpg', 'Biliun7.jpg', 'Biliun8.jpg', 'Biliun9.jpg']\n",
      "['Juta0.jpg', 'Juta1.jpg', 'Juta10.jpg', 'Juta11.jpg', 'Juta12.jpg', 'Juta13.jpg', 'Juta14.jpg', 'Juta15.jpg', 'Juta16.jpg', 'Juta17.jpg', 'Juta18.jpg', 'Juta19.jpg', 'Juta2.jpg', 'Juta20.jpg', 'Juta21.jpg', 'Juta22.jpg', 'Juta23.jpg', 'Juta24.jpg', 'Juta25.jpg', 'Juta26.jpg', 'Juta27.jpg', 'Juta28.jpg', 'Juta29.jpg', 'Juta3.jpg', 'Juta30.jpg', 'Juta31.jpg', 'Juta32.jpg', 'Juta33.jpg', 'Juta34.jpg', 'Juta35.jpg', 'Juta36.jpg', 'Juta37.jpg', 'Juta38.jpg', 'Juta39.jpg', 'Juta4.jpg', 'Juta40.jpg', 'Juta41.jpg', 'Juta42.jpg', 'Juta43.jpg', 'Juta44.jpg', 'Juta5.jpg', 'Juta6.jpg', 'Juta7.jpg', 'Juta8.jpg', 'Juta9.jpg']\n"
     ]
    },
    {
     "ename": "FileNotFoundError",
     "evalue": "[WinError 3] The system cannot find the path specified: 'Angka/ExtractionAngka/Milyar/'",
     "output_type": "error",
     "traceback": [
      "\u001b[1;31m---------------------------------------------------------------------------\u001b[0m",
      "\u001b[1;31mFileNotFoundError\u001b[0m                         Traceback (most recent call last)",
      "\u001b[1;32md:\\Orbit\\Studi Independen\\Project Akhir\\sign-language\\Dataset\\cleanAndCropData.ipynb Cell 3'\u001b[0m in \u001b[0;36m<cell line: 3>\u001b[1;34m()\u001b[0m\n\u001b[0;32m      <a href='vscode-notebook-cell:/d%3A/Orbit/Studi%20Independen/Project%20Akhir/sign-language/Dataset/cleanAndCropData.ipynb#ch0000008?line=1'>2</a>\u001b[0m \u001b[39mfrom\u001b[39;00m \u001b[39mos\u001b[39;00m\u001b[39m.\u001b[39;00m\u001b[39mpath\u001b[39;00m \u001b[39mimport\u001b[39;00m isfile, join\n\u001b[0;32m      <a href='vscode-notebook-cell:/d%3A/Orbit/Studi%20Independen/Project%20Akhir/sign-language/Dataset/cleanAndCropData.ipynb#ch0000008?line=2'>3</a>\u001b[0m \u001b[39mfor\u001b[39;00m i \u001b[39min\u001b[39;00m Angka:\n\u001b[1;32m----> <a href='vscode-notebook-cell:/d%3A/Orbit/Studi%20Independen/Project%20Akhir/sign-language/Dataset/cleanAndCropData.ipynb#ch0000008?line=3'>4</a>\u001b[0m     onlyfiles \u001b[39m=\u001b[39m [f \u001b[39mfor\u001b[39;00m f \u001b[39min\u001b[39;00m listdir(\u001b[39mf\u001b[39;49m\u001b[39m'\u001b[39;49m\u001b[39mAngka/ExtractionAngka/\u001b[39;49m\u001b[39m{\u001b[39;49;00mi\u001b[39m}\u001b[39;49;00m\u001b[39m/\u001b[39;49m\u001b[39m'\u001b[39;49m) \u001b[39mif\u001b[39;00m isfile(join(\u001b[39mf\u001b[39m\u001b[39m'\u001b[39m\u001b[39mAngka/ExtractionAngka/\u001b[39m\u001b[39m{\u001b[39;00mi\u001b[39m}\u001b[39;00m\u001b[39m'\u001b[39m, f))]\n\u001b[0;32m      <a href='vscode-notebook-cell:/d%3A/Orbit/Studi%20Independen/Project%20Akhir/sign-language/Dataset/cleanAndCropData.ipynb#ch0000008?line=4'>5</a>\u001b[0m     \u001b[39mprint\u001b[39m(onlyfiles)\n",
      "\u001b[1;31mFileNotFoundError\u001b[0m: [WinError 3] The system cannot find the path specified: 'Angka/ExtractionAngka/Milyar/'"
     ]
    }
   ],
   "source": [
    "from os import listdir\n",
    "from os.path import isfile, join\n",
    "for i in Angka:\n",
    "    onlyfiles = [f for f in listdir(f'Angka/ExtractionAngka/{i}/') if isfile(join(f'Angka/ExtractionAngka/{i}', f))]\n",
    "    print(onlyfiles)"
   ]
  },
  {
   "cell_type": "code",
   "execution_count": 3,
   "metadata": {},
   "outputs": [
    {
     "ename": "SyntaxError",
     "evalue": "invalid syntax. Perhaps you forgot a comma? (2103687613.py, line 3)",
     "output_type": "error",
     "traceback": [
      "\u001b[1;36m  Input \u001b[1;32mIn [3]\u001b[1;36m\u001b[0m\n\u001b[1;33m    if os.path.exists('Angka/'+Angka[i]+'/'+Angka2[i]'.png'):\u001b[0m\n\u001b[1;37m                      ^\u001b[0m\n\u001b[1;31mSyntaxError\u001b[0m\u001b[1;31m:\u001b[0m invalid syntax. Perhaps you forgot a comma?\n"
     ]
    }
   ],
   "source": [
    "#remove file\n",
    "for i in range(len(Angka)):\n",
    "    if os.path.exists('Angka/ExtractionAngka/'+Angka[i]+'/'+Angka4[i]+'.jpg'):\n",
    "        os.remove('Angka/'+Angka[i]+'.png')\n",
    "    else:\n",
    "        print('File Not Found') "
   ]
  }
 ],
 "metadata": {
  "interpreter": {
   "hash": "27f6fea6f47ae512550f0b8facdbd035a93e1dd89633f7bf2dd00a2502c71d0d"
  },
  "kernelspec": {
   "display_name": "Python 3.10.3 64-bit",
   "language": "python",
   "name": "python3"
  },
  "language_info": {
   "codemirror_mode": {
    "name": "ipython",
    "version": 3
   },
   "file_extension": ".py",
   "mimetype": "text/x-python",
   "name": "python",
   "nbconvert_exporter": "python",
   "pygments_lexer": "ipython3",
   "version": "3.10.3"
  },
  "orig_nbformat": 4
 },
 "nbformat": 4,
 "nbformat_minor": 2
}
