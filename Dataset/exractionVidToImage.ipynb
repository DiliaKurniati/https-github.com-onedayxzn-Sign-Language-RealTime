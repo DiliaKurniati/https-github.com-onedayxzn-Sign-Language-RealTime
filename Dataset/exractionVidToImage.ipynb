{
 "cells": [
  {
   "cell_type": "code",
   "execution_count": 1,
   "metadata": {},
   "outputs": [],
   "source": [
    "import cv2\n",
    "import os"
   ]
  },
  {
   "cell_type": "code",
   "execution_count": 2,
   "metadata": {},
   "outputs": [
    {
     "name": "stdout",
     "output_type": "stream",
     "text": [
      "['01', '02', '03', '04', '05', '06', '07', '08', '09', '11', '12', '13', '14', '15', '16', '17', '18', '19', '20', '30', '40', '50', '60', '70', '80', '90', '100']\n",
      "['1000', 'Biliun', 'Juta', 'Milyar', 'Puluh', 'Ratus', 'Triliun', 'Jutaan', 'Ratusan', 'Puluhan', 'Ribuan', 'Satuan']\n",
      "Final Results ['01', '02', '03', '04', '05', '06', '07', '08', '09', '11', '12', '13', '14', '15', '16', '17', '18', '19', '20', '30', '40', '50', '60', '70', '80', '90', '100', '1000', 'Biliun', 'Juta', 'Milyar', 'Puluh', 'Ratus', 'Triliun', 'Jutaan', 'Ratusan', 'Puluhan', 'Ribuan', 'Satuan']\n",
      "39\n"
     ]
    }
   ],
   "source": [
    "Angka = []\n",
    "nol = '0'\n",
    "\n",
    "\n",
    "\n",
    "#1 sampai 20 ``\n",
    "for i in range(1,101):\n",
    "    if i < 10:\n",
    "        angka = nol + str(i)\n",
    "        Angka.append(angka)\n",
    "    elif i > 10 and i < 20:\n",
    "        angka = str(i)\n",
    "        Angka.append(angka)\n",
    "    elif i >= 20 and i <= 100:\n",
    "        if i % 10 == 0:\n",
    "            angka = str(i)\n",
    "            Angka.append(angka)\n",
    "\n",
    "print(Angka)\n",
    "Angka2 = ['1000','Biliun','Juta','Milyar','Puluh','Ratus','Triliun','Jutaan','Ratusan','Puluhan','Ribuan','Satuan']\n",
    "print(Angka2)\n",
    "Angka=Angka+Angka2\n",
    "print('Final Results',Angka)\n",
    "print(len(Angka))"
   ]
  },
  {
   "cell_type": "code",
   "execution_count": 3,
   "metadata": {},
   "outputs": [
    {
     "name": "stdout",
     "output_type": "stream",
     "text": [
      "Directory already exists\n",
      "Directory already exists\n",
      "Directory already exists\n",
      "Directory already exists\n",
      "Directory already exists\n",
      "Directory already exists\n",
      "Directory already exists\n",
      "Directory already exists\n",
      "Directory already exists\n",
      "Directory already exists\n",
      "Directory already exists\n",
      "Directory already exists\n",
      "Directory already exists\n",
      "Directory already exists\n",
      "Directory already exists\n",
      "Directory already exists\n",
      "Directory already exists\n",
      "Directory already exists\n",
      "Directory already exists\n",
      "Directory already exists\n",
      "Directory already exists\n",
      "Directory already exists\n",
      "Directory already exists\n",
      "Directory already exists\n",
      "Directory already exists\n",
      "Directory already exists\n",
      "Directory already exists\n",
      "Directory already exists\n",
      "Directory already exists\n",
      "Directory already exists\n",
      "Directory already exists\n",
      "Directory already exists\n",
      "Directory already exists\n",
      "Directory already exists\n",
      "Directory already exists\n",
      "Directory already exists\n",
      "Directory already exists\n",
      "Directory already exists\n"
     ]
    }
   ],
   "source": [
    "#create directory for images\n",
    "for i in Angka:\n",
    "    if not os.path.exists('Angka/ExtractionAngka/'+i):\n",
    "        os.makedirs(f'Angka/ExtractionAngka/{i}')\n",
    "    else:\n",
    "        print('Directory already exists')"
   ]
  },
  {
   "cell_type": "code",
   "execution_count": 4,
   "metadata": {},
   "outputs": [],
   "source": [
    "#extracting the video to images\n",
    "def extract_video(video_path, image_path):\n",
    "    vid = cv2.VideoCapture(video_path)\n",
    "    count = 0\n",
    "    while True:\n",
    "        success, image = vid.read()\n",
    "        if not success:\n",
    "            break\n",
    "        cv2.imwrite(image_path + \"%d.jpg\" % count, image)\n",
    "        count += 1\n",
    "    vid.release()\n",
    "    cv2.destroyAllWindows()\n"
   ]
  },
  {
   "cell_type": "code",
   "execution_count": 5,
   "metadata": {},
   "outputs": [],
   "source": [
    "for i in range(0,39):\n",
    "    extract_video('Angka/'+Angka[i]+'.mp4','Angka/ExtractionAngka/'+Angka[i]+'/'+ Angka[i])"
   ]
  },
  {
   "cell_type": "code",
   "execution_count": 6,
   "metadata": {},
   "outputs": [
    {
     "name": "stdout",
     "output_type": "stream",
     "text": [
      "26\n"
     ]
    }
   ],
   "source": [
    "abjad = ['A','B','C','D','E','F','G','H','I','J','K','L','M','N','O','P','Q','R','S','T','U','V','W','X','Y','Z']\n",
    "print(len(abjad))"
   ]
  },
  {
   "cell_type": "code",
   "execution_count": 7,
   "metadata": {},
   "outputs": [
    {
     "name": "stdout",
     "output_type": "stream",
     "text": [
      "Directory already exists\n",
      "Directory already exists\n",
      "Directory already exists\n",
      "Directory already exists\n",
      "Directory already exists\n",
      "Directory already exists\n",
      "Directory already exists\n",
      "Directory already exists\n",
      "Directory already exists\n",
      "Directory already exists\n",
      "Directory already exists\n",
      "Directory already exists\n",
      "Directory already exists\n",
      "Directory already exists\n",
      "Directory already exists\n",
      "Directory already exists\n",
      "Directory already exists\n",
      "Directory already exists\n",
      "Directory already exists\n",
      "Directory already exists\n",
      "Directory already exists\n",
      "Directory already exists\n",
      "Directory already exists\n",
      "Directory already exists\n",
      "Directory already exists\n",
      "Directory already exists\n"
     ]
    }
   ],
   "source": [
    "#create directory for images\n",
    "for abc in abjad:\n",
    "    if not os.path.exists('Abjad/ExtractionAbjad/'+abc):\n",
    "        os.makedirs(f'Abjad/ExtractionAbjad/{abc}')\n",
    "    else:\n",
    "        print('Directory already exists')"
   ]
  },
  {
   "cell_type": "code",
   "execution_count": 8,
   "metadata": {},
   "outputs": [],
   "source": [
    "for i in range(0,26):\n",
    "    extract_video('Abjad/'+abjad[i]+'.mp4','Abjad/ExtractionAbjad/'+abjad[i]+'/'+ abjad[i])"
   ]
  },
  {
   "cell_type": "code",
   "execution_count": 9,
   "metadata": {},
   "outputs": [
    {
     "name": "stdout",
     "output_type": "stream",
     "text": [
      "['Pe', 'Ter', 'Ber', 'Me', 'Di', 'Se', 'Ke', 'Wati', 'An', 'Nya', 'Wan', 'Ti', 'Man', 'Kan', 'I', 'Pun', 'Lah', 'Kah']\n",
      "18\n"
     ]
    }
   ],
   "source": [
    "awalan = ['Pe','Ter','Ber','Me','Di','Se','Ke']\n",
    "akhiran = ['Wati','An','Nya','Wan','Ti','Man','Kan','I']\n",
    "partikel = ['Pun','Lah','Kah']\n",
    "\n",
    "imbuhan = awalan + akhiran + partikel\n",
    "print(imbuhan)\n",
    "print(len(imbuhan))"
   ]
  },
  {
   "cell_type": "code",
   "execution_count": 10,
   "metadata": {},
   "outputs": [
    {
     "name": "stdout",
     "output_type": "stream",
     "text": [
      "Directory already exists\n",
      "Directory already exists\n",
      "Directory already exists\n",
      "Directory already exists\n",
      "Directory already exists\n",
      "Directory already exists\n",
      "Directory already exists\n",
      "Directory already exists\n",
      "Directory already exists\n",
      "Directory already exists\n",
      "Directory already exists\n",
      "Directory already exists\n",
      "Directory already exists\n",
      "Directory already exists\n",
      "Directory already exists\n",
      "Directory already exists\n",
      "Directory already exists\n",
      "Directory already exists\n"
     ]
    }
   ],
   "source": [
    "for imb in imbuhan:\n",
    "    if not os.path.exists('Imbuhan/ExtractionImbuhan/'+imb):\n",
    "        os.makedirs(f'Imbuhan/ExtractionImbuhan/{imb}')\n",
    "    else:\n",
    "        print('Directory already exists')"
   ]
  },
  {
   "cell_type": "code",
   "execution_count": 11,
   "metadata": {},
   "outputs": [],
   "source": [
    "for i in range(0,18):\n",
    "    extract_video('Imbuhan/'+imbuhan[i]+'.mp4','Imbuhan/ExtractionImbuhan/'+imbuhan[i]+'/'+ imbuhan[i])"
   ]
  }
 ],
 "metadata": {
  "interpreter": {
   "hash": "27f6fea6f47ae512550f0b8facdbd035a93e1dd89633f7bf2dd00a2502c71d0d"
  },
  "kernelspec": {
   "display_name": "Python 3.10.3 64-bit",
   "language": "python",
   "name": "python3"
  },
  "language_info": {
   "codemirror_mode": {
    "name": "ipython",
    "version": 3
   },
   "file_extension": ".py",
   "mimetype": "text/x-python",
   "name": "python",
   "nbconvert_exporter": "python",
   "pygments_lexer": "ipython3",
   "version": "3.10.3"
  },
  "orig_nbformat": 4
 },
 "nbformat": 4,
 "nbformat_minor": 2
}
